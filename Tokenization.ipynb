{
 "cells": [
  {
   "cell_type": "code",
   "execution_count": null,
   "metadata": {
    "id": "view-in-github",
    "colab_type": "text"
   },
   "outputs": [],
   "source": [
    "<a href=\"https://colab.research.google.com/github/magemma/question-answering/blob/master/Tokenization.ipynb\" target=\"_parent\"><img src=\"https://colab.research.google.com/assets/colab-badge.svg\" alt=\"Open In Colab\"/></a>"
   ]
  },
  {
   "cell_type": "code",
   "execution_count": null,
   "metadata": {
    "id": "_xnP35s37eTE",
    "colab_type": "code",
    "colab": {}
   },
   "outputs": [],
   "source": [
    "print(\"ciao\")"
   ]
  }
 ],
 "metadata": {
  "colab": {
   "name": "Tokenization.ipynb",
   "version": "0.3.2",
   "provenance": [],
   "include_colab_link": true
  },
  "kernelspec": {
   "name": "python3",
   "display_name": "Python 3"
  }
 },
 "nbformat": 4,
 "nbformat_minor": 0
}
